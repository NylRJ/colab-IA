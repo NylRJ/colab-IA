{
  "nbformat": 4,
  "nbformat_minor": 0,
  "metadata": {
    "colab": {
      "name": "Q-Learning_Taxi.ipynb",
      "provenance": [],
      "collapsed_sections": [],
      "include_colab_link": true
    },
    "kernelspec": {
      "name": "python3",
      "display_name": "Python 3"
    },
    "language_info": {
      "name": "python"
    }
  },
  "cells": [
    {
      "cell_type": "markdown",
      "metadata": {
        "id": "view-in-github",
        "colab_type": "text"
      },
      "source": [
        "<a href=\"https://colab.research.google.com/github/NylRJ/colab-IA/blob/main/Q_Learning_Taxi.ipynb\" target=\"_parent\"><img src=\"https://colab.research.google.com/assets/colab-badge.svg\" alt=\"Open In Colab\"/></a>"
      ]
    },
    {
      "cell_type": "markdown",
      "metadata": {
        "id": "GUshox_Y4qPQ"
      },
      "source": [
        "###**Aprendizagem por reforço com Q-Learning**"
      ]
    },
    {
      "cell_type": "markdown",
      "metadata": {
        "id": "6wNT73Nv5Ag8"
      },
      "source": [
        "Entendimento do ambiente "
      ]
    },
    {
      "cell_type": "code",
      "metadata": {
        "id": "VdPqDgON5Fwb"
      },
      "source": [
        "import gym\n",
        "import random\n"
      ],
      "execution_count": null,
      "outputs": []
    },
    {
      "cell_type": "code",
      "metadata": {
        "id": "GtzP4T_f5V8G"
      },
      "source": [
        "env = gym.make('Taxi-v3').env"
      ],
      "execution_count": null,
      "outputs": []
    },
    {
      "cell_type": "code",
      "metadata": {
        "colab": {
          "base_uri": "https://localhost:8080/"
        },
        "id": "9MDeFwp75qKL",
        "outputId": "dc9409dc-b075-464e-cb10-8703982e5ecf"
      },
      "source": [
        "env.render()"
      ],
      "execution_count": null,
      "outputs": [
        {
          "output_type": "stream",
          "text": [
            "+---------+\n",
            "|\u001b[34;1mR\u001b[0m: | : :G|\n",
            "| : | : : |\n",
            "| : : : : |\n",
            "|\u001b[43m \u001b[0m| : | : |\n",
            "|\u001b[35mY\u001b[0m| : |B: |\n",
            "+---------+\n",
            "\n"
          ],
          "name": "stdout"
        }
      ]
    },
    {
      "cell_type": "code",
      "metadata": {
        "colab": {
          "base_uri": "https://localhost:8080/"
        },
        "id": "JkwG9xnb6PJj",
        "outputId": "aef05ef9-39ec-464b-c219-8eb3816a14de"
      },
      "source": [
        "env.reset()\n",
        "env.render()"
      ],
      "execution_count": null,
      "outputs": [
        {
          "output_type": "stream",
          "text": [
            "+---------+\n",
            "|\u001b[43mR\u001b[0m: | : :\u001b[34;1mG\u001b[0m|\n",
            "| : | : : |\n",
            "| : : : : |\n",
            "| | : | : |\n",
            "|\u001b[35mY\u001b[0m| : |B: |\n",
            "+---------+\n",
            "\n"
          ],
          "name": "stdout"
        }
      ]
    },
    {
      "cell_type": "markdown",
      "metadata": {
        "id": "51l2qeJK690G"
      },
      "source": [
        "###**# 0 = south 1 = north 2 = east 3 = west 4 = Pegar Passageiro 5 = Deixar passageiro**"
      ]
    },
    {
      "cell_type": "code",
      "metadata": {
        "colab": {
          "base_uri": "https://localhost:8080/"
        },
        "id": "rjG3LGjO6SuF",
        "outputId": "66ee6c75-84cd-4920-f912-daa5e0cef3b1"
      },
      "source": [
        "print(env.action_space)"
      ],
      "execution_count": null,
      "outputs": [
        {
          "output_type": "stream",
          "text": [
            "Discrete(6)\n"
          ],
          "name": "stdout"
        }
      ]
    },
    {
      "cell_type": "markdown",
      "metadata": {
        "id": "ybg6_FQ38HIr"
      },
      "source": [
        "###**Calculando os estado desponiveis**###\n",
        "#5x5x5x4"
      ]
    },
    {
      "cell_type": "code",
      "metadata": {
        "colab": {
          "base_uri": "https://localhost:8080/"
        },
        "id": "ZrsgFFfM85Ws",
        "outputId": "09d70572-ad6e-43f6-b31f-15ee3bc03d3e"
      },
      "source": [
        "5*5*5*4"
      ],
      "execution_count": null,
      "outputs": [
        {
          "output_type": "execute_result",
          "data": {
            "text/plain": [
              "500"
            ]
          },
          "metadata": {
            "tags": []
          },
          "execution_count": 7
        }
      ]
    },
    {
      "cell_type": "markdown",
      "metadata": {
        "id": "B_LkmqcA72AC"
      },
      "source": [
        "####**4 destinos**####"
      ]
    },
    {
      "cell_type": "code",
      "metadata": {
        "colab": {
          "base_uri": "https://localhost:8080/"
        },
        "id": "lB7rceZl7mSj",
        "outputId": "268d7d20-3f19-46d0-ae69-db17ed86d6d1"
      },
      "source": [
        "print(env.observation_space)"
      ],
      "execution_count": null,
      "outputs": [
        {
          "output_type": "stream",
          "text": [
            "Discrete(500)\n"
          ],
          "name": "stdout"
        }
      ]
    },
    {
      "cell_type": "code",
      "metadata": {
        "colab": {
          "base_uri": "https://localhost:8080/"
        },
        "id": "a1EKl9LhUdFZ",
        "outputId": "7024b0a6-d433-4740-abef-788c65f34472"
      },
      "source": [
        "len(env.P)"
      ],
      "execution_count": null,
      "outputs": [
        {
          "output_type": "execute_result",
          "data": {
            "text/plain": [
              "500"
            ]
          },
          "metadata": {
            "tags": []
          },
          "execution_count": 9
        }
      ]
    },
    {
      "cell_type": "code",
      "metadata": {
        "colab": {
          "base_uri": "https://localhost:8080/"
        },
        "id": "-B7ZaYwTU6cu",
        "outputId": "9f580d4f-5688-46c8-e269-c1e607ecb49f"
      },
      "source": [
        "env.P[484]"
      ],
      "execution_count": null,
      "outputs": [
        {
          "output_type": "execute_result",
          "data": {
            "text/plain": [
              "{0: [(1.0, 484, -1, False)],\n",
              " 1: [(1.0, 384, -1, False)],\n",
              " 2: [(1.0, 484, -1, False)],\n",
              " 3: [(1.0, 464, -1, False)],\n",
              " 4: [(1.0, 484, -10, False)],\n",
              " 5: [(1.0, 484, -10, False)]}"
            ]
          },
          "metadata": {
            "tags": []
          },
          "execution_count": 10
        }
      ]
    },
    {
      "cell_type": "markdown",
      "metadata": {
        "id": "nhaXfKWR5JV0"
      },
      "source": [
        "###**Treinamento**"
      ]
    },
    {
      "cell_type": "markdown",
      "metadata": {
        "id": "j7mfAAGLYS1Q"
      },
      "source": [
        "# **Diferença Temporal**\n",
        "Diferença temporal (Q-learning)\n",
        "\n",
        "![image.png](data:image/png;base64,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)"
      ]
    },
    {
      "cell_type": "code",
      "metadata": {
        "colab": {
          "base_uri": "https://localhost:8080/"
        },
        "id": "rEiDFzLHdefG",
        "outputId": "3e42049b-594e-40d9-b31c-a6d2b42b07f0"
      },
      "source": [
        "import numpy as np\n",
        "q_table = np.zeros([env.observation_space.n, env.action_space.n])\n",
        "q_table.shape"
      ],
      "execution_count": null,
      "outputs": [
        {
          "output_type": "execute_result",
          "data": {
            "text/plain": [
              "(500, 6)"
            ]
          },
          "metadata": {
            "tags": []
          },
          "execution_count": 11
        }
      ]
    },
    {
      "cell_type": "markdown",
      "metadata": {
        "id": "kWGayxaya7p2"
      },
      "source": [
        "#1-10% 3-90%\n",
        "### exploration / exploitation"
      ]
    },
    {
      "cell_type": "code",
      "metadata": {
        "colab": {
          "base_uri": "https://localhost:8080/"
        },
        "id": "qliCx3YpZmZN",
        "outputId": "bbdd7b95-7194-49c7-a2d8-1688291b2a11"
      },
      "source": [
        "%%time\n",
        "from IPython.display import clear_output\n",
        "alpha = 0.1\n",
        "gamma = 0.6\n",
        "epsilon = 0.1\n",
        "\n",
        "# estado inicial\n",
        "for i in  range(100000):\n",
        "  estado  = env.reset()\n",
        "\n",
        "  penalidades, recompensa = 0, 0\n",
        "  done  = False\n",
        "  while not done:\n",
        "    # Exploração\n",
        "    if random.uniform(0, 1) < epsilon:\n",
        "      acao = env.action_space.sample()\n",
        "    # Exploitation\n",
        "    else:\n",
        "      acao = np.argmax(q_table[estado])\n",
        "    proximo_estado, recompensa, done, info = env.step(acao)\n",
        "\n",
        "    q_antigo = q_table[estado, acao]\n",
        "    proximo_maximo_valor = np.max(q_table[proximo_estado])\n",
        "\n",
        "     # pode ficar um pouco grande o q_antigo e explodir a memoria no colab\n",
        "     # q_novo = q_antigo + alpha * (recompensa + gamma * proximo_maximo_valor)\n",
        "\n",
        "    # aqui estou normalizando para que ele fique em uma escala menor para evitar gera erro\n",
        "    q_novo = ( 1- alpha) * q_antigo + alpha * (recompensa + gamma * proximo_maximo_valor)\n",
        "    q_table[estado, acao] = q_novo\n",
        "\n",
        "    if recompensa == -10:\n",
        "      penalidades += 1 \n",
        "    \n",
        "    estado =  proximo_estado\n",
        "\n",
        "  if i %  100 == 0:\n",
        "    clear_output(wait=True)\n",
        "    print('Episodio: ', i) \n",
        "\n",
        "print('Treinamento concluído')\n"
      ],
      "execution_count": null,
      "outputs": [
        {
          "output_type": "stream",
          "text": [
            "Episodio:  99900\n",
            "Treinamento concluído\n",
            "CPU times: user 1min 6s, sys: 13.2 s, total: 1min 20s\n",
            "Wall time: 1min 8s\n"
          ],
          "name": "stdout"
        }
      ]
    },
    {
      "cell_type": "markdown",
      "metadata": {
        "id": "XgB4O4NhtrS3"
      },
      "source": [
        "   0          1          2               3\n",
        "\n",
        "n =cima s=baixo o=esquerda l=direita"
      ]
    },
    {
      "cell_type": "code",
      "metadata": {
        "colab": {
          "base_uri": "https://localhost:8080/"
        },
        "id": "5Ux7S2rzolRJ",
        "outputId": "665f1d8f-efcc-4061-8c0a-b01665dbb766"
      },
      "source": [
        "# 0 = south 1 = north 2 = east 3 = west 4 = pickup 5 = dropoff\n",
        "q_table[374]"
      ],
      "execution_count": null,
      "outputs": [
        {
          "output_type": "execute_result",
          "data": {
            "text/plain": [
              "array([ -2.27325184,  -2.41837057,  -2.41837057,  -2.3639511 ,\n",
              "       -11.36394838, -11.3639508 ])"
            ]
          },
          "metadata": {
            "tags": []
          },
          "execution_count": 16
        }
      ]
    },
    {
      "cell_type": "code",
      "metadata": {
        "colab": {
          "base_uri": "https://localhost:8080/"
        },
        "id": "zoFV6hwypDpj",
        "outputId": "ff67f19d-ac37-48ad-8337-d419060eb7d8"
      },
      "source": [
        "env.reset()\n",
        "env.render()"
      ],
      "execution_count": null,
      "outputs": [
        {
          "output_type": "stream",
          "text": [
            "+---------+\n",
            "|R: | : :G|\n",
            "| : | : : |\n",
            "| : : : : |\n",
            "| | : |\u001b[43m \u001b[0m: |\n",
            "|\u001b[34;1mY\u001b[0m| : |\u001b[35mB\u001b[0m: |\n",
            "+---------+\n",
            "\n"
          ],
          "name": "stdout"
        }
      ]
    },
    {
      "cell_type": "code",
      "metadata": {
        "colab": {
          "base_uri": "https://localhost:8080/"
        },
        "id": "n3RRfEovpbkW",
        "outputId": "ff710a9a-7851-4816-8445-9e102427c25d"
      },
      "source": [
        "env.encode(3, 3, 3, 2)"
      ],
      "execution_count": null,
      "outputs": [
        {
          "output_type": "execute_result",
          "data": {
            "text/plain": [
              "374"
            ]
          },
          "metadata": {
            "tags": []
          },
          "execution_count": 15
        }
      ]
    },
    {
      "cell_type": "markdown",
      "metadata": {
        "id": "CFPiXgk2Y5_R"
      },
      "source": [
        "### **Avaliação**"
      ]
    },
    {
      "cell_type": "code",
      "metadata": {
        "colab": {
          "base_uri": "https://localhost:8080/"
        },
        "id": "EKTmOPYu5O7Z",
        "outputId": "7dc1a9c9-5ed0-43a0-8a93-9202d329ad34"
      },
      "source": [
        "total_penalidades = 0\n",
        "episodios = 50\n",
        "frames = []\n",
        "\n",
        "for _ in range(episodios):\n",
        "  estado = env.reset()\n",
        "  penalidades, recompensa = 0, 0\n",
        "  done = False\n",
        "  while not done:\n",
        "    acao = np.argmax(q_table[estado])\n",
        "    estado, recompensa, done, info = env.step(acao)\n",
        "\n",
        "    if recompensa == -10:\n",
        "      penalidades += 1\n",
        "    \n",
        "    frames.append({\n",
        "        'frame': env.render(mode='ansi'),\n",
        "        'state': estado,\n",
        "        'action': acao,\n",
        "        'reward': recompensa\n",
        "    })\n",
        "  total_penalidades += penalidades\n",
        "print('Episódio', episodios)\n",
        "print('Penalidades', total_penalidades)"
      ],
      "execution_count": null,
      "outputs": [
        {
          "output_type": "stream",
          "text": [
            "Episódio 50\n",
            "Penalidades 0\n"
          ],
          "name": "stdout"
        }
      ]
    },
    {
      "cell_type": "code",
      "metadata": {
        "colab": {
          "base_uri": "https://localhost:8080/"
        },
        "id": "48pcC89hyGkc",
        "outputId": "433ea8f0-a3b7-4f6a-bdde-2c6844b676ae"
      },
      "source": [
        "frames[0]"
      ],
      "execution_count": null,
      "outputs": [
        {
          "output_type": "execute_result",
          "data": {
            "text/plain": [
              "{'action': 2,\n",
              " 'frame': '+---------+\\n|R: | : :G|\\n| : | : : |\\n| : :\\x1b[43m \\x1b[0m: : |\\n| | : | : |\\n|\\x1b[35mY\\x1b[0m| : |\\x1b[34;1mB\\x1b[0m: |\\n+---------+\\n  (East)\\n',\n",
              " 'reward': -1,\n",
              " 'state': 254}"
            ]
          },
          "metadata": {
            "tags": []
          },
          "execution_count": 85
        }
      ]
    },
    {
      "cell_type": "code",
      "metadata": {
        "colab": {
          "base_uri": "https://localhost:8080/"
        },
        "id": "VqVx5eK58EXB",
        "outputId": "b6ead909-5d64-472f-edba-54149b6365c0"
      },
      "source": [
        "from time import sleep\n",
        "for frame in frames:\n",
        "  clear_output(wait=True)\n",
        "  print(frame['frame'])\n",
        "  print('Estado', frame['state'])\n",
        "  print('Ação', frame['action'])\n",
        "  print('Recompensa', frame['reward'])\n",
        "  sleep(0.5)"
      ],
      "execution_count": null,
      "outputs": [
        {
          "output_type": "stream",
          "text": [
            "+---------+\n",
            "|\u001b[35m\u001b[34;1m\u001b[43mR\u001b[0m\u001b[0m\u001b[0m: | : :G|\n",
            "| : | : : |\n",
            "| : : : : |\n",
            "| | : | : |\n",
            "|Y| : |B: |\n",
            "+---------+\n",
            "  (Dropoff)\n",
            "\n",
            "Estado 0\n",
            "Ação 5\n",
            "Recompensa 20\n"
          ],
          "name": "stdout"
        }
      ]
    }
  ]
}