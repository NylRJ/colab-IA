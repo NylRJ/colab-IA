{
  "nbformat": 4,
  "nbformat_minor": 0,
  "metadata": {
    "colab": {
      "name": "Rede Neurais_funcao_sigmoid.ipynb",
      "provenance": [],
      "include_colab_link": true
    },
    "kernelspec": {
      "name": "python3",
      "display_name": "Python 3"
    },
    "language_info": {
      "name": "python"
    }
  },
  "cells": [
    {
      "cell_type": "markdown",
      "metadata": {
        "id": "view-in-github",
        "colab_type": "text"
      },
      "source": [
        "<a href=\"https://colab.research.google.com/github/NylRJ/colab-IA/blob/main/Rede_Neurais_funcao_sigmoid.ipynb\" target=\"_parent\"><img src=\"https://colab.research.google.com/assets/colab-badge.svg\" alt=\"Open In Colab\"/></a>"
      ]
    },
    {
      "cell_type": "markdown",
      "metadata": {
        "id": "zGONZC2TNUdM"
      },
      "source": [
        "# **Import numpy as np **"
      ]
    },
    {
      "cell_type": "code",
      "metadata": {
        "id": "3xolqgDI_ji1"
      },
      "source": [
        "import numpy as np\n"
      ],
      "execution_count": null,
      "outputs": []
    },
    {
      "cell_type": "markdown",
      "metadata": {
        "id": "ZON_SK1INjEj"
      },
      "source": [
        "# **Função sigmoide**"
      ]
    },
    {
      "cell_type": "code",
      "metadata": {
        "id": "krIXC-_I_83n"
      },
      "source": [
        "def sigmoide(z):\n",
        "  return 1 / (1 + np.exp(-z))"
      ],
      "execution_count": null,
      "outputs": []
    },
    {
      "cell_type": "code",
      "metadata": {
        "colab": {
          "base_uri": "https://localhost:8080/"
        },
        "id": "zWglG48XADCP",
        "outputId": "2d7ffd73-996d-4476-95d3-fa104a9bcdee"
      },
      "source": [
        "sigmoide(-0.381)"
      ],
      "execution_count": null,
      "outputs": [
        {
          "output_type": "execute_result",
          "data": {
            "text/plain": [
              "0.40588573188433286"
            ]
          },
          "metadata": {
            "tags": []
          },
          "execution_count": 39
        }
      ]
    },
    {
      "cell_type": "markdown",
      "metadata": {
        "id": "8Bjfyq2bNqy-"
      },
      "source": [
        "# **Derivada**"
      ]
    },
    {
      "cell_type": "code",
      "metadata": {
        "id": "pbjjHv12Co6U"
      },
      "source": [
        "def derivada(y):\n",
        "  return y * (1 - y)"
      ],
      "execution_count": null,
      "outputs": []
    },
    {
      "cell_type": "code",
      "metadata": {
        "colab": {
          "base_uri": "https://localhost:8080/"
        },
        "id": "PYJ9LBW9DP6g",
        "outputId": "75d6075c-ea21-4d4d-e66a-39301d257200"
      },
      "source": [
        "derivada(sigmoid(-0.381))"
      ],
      "execution_count": null,
      "outputs": [
        {
          "output_type": "execute_result",
          "data": {
            "text/plain": [
              "0.24114250453705233"
            ]
          },
          "metadata": {
            "tags": []
          },
          "execution_count": 41
        }
      ]
    },
    {
      "cell_type": "markdown",
      "metadata": {
        "id": "fm-flFzCN0BF"
      },
      "source": [
        "# DeltaSaida = Erro  * DerivadaSigmoid **negrito**\n",
        "\n",
        "```\n",
        "Soma = -0.381\n",
        "Ativação = 0.406\n",
        "Erro = 0 - 0.406 = -0.406\n",
        "Derivada ativação (sigmoide) = 0.241\n",
        "Deltasaida -0.406 *  0.241 = -0.098 \n",
        "```\n",
        "\n",
        "\n"
      ]
    },
    {
      "cell_type": "markdown",
      "metadata": {
        "id": "PHSxONPbQ9am"
      },
      "source": [
        "## **Neuronio interno**\n",
        "# DeltaEscondida  = DerivadaSigmoide * peso * DeltaSaida\n",
        "\n",
        "\n",
        "```\n",
        "soma = 0\n",
        "derivada = 0.25\n",
        "deltaSaida = -0.098\n",
        "peso = -0.017\n",
        "0.25 * (-0.017) * (-0.098) = 0.000 # resulrtado aredondado \n",
        "\n",
        "```\n",
        "\n"
      ]
    },
    {
      "cell_type": "code",
      "metadata": {
        "colab": {
          "base_uri": "https://localhost:8080/"
        },
        "id": "CkIIqAtLSB1t",
        "outputId": "a8fef95c-263a-412c-eddb-8b308d715157"
      },
      "source": [
        "0.25 * (-0.017) * (-0.098)"
      ],
      "execution_count": null,
      "outputs": [
        {
          "output_type": "execute_result",
          "data": {
            "text/plain": [
              "0.00041650000000000004"
            ]
          },
          "metadata": {
            "tags": []
          },
          "execution_count": 42
        }
      ]
    }
  ]
}